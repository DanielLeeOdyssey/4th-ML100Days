{
 "cells": [
  {
   "cell_type": "markdown",
   "metadata": {},
   "source": [
    "# [作業1]\n",
    "  仿造範例的MAE函數, 自己寫一個MSE函數(參考上面公式)"
   ]
  },
  {
   "cell_type": "markdown",
   "metadata": {},
   "source": [
    "# [作業2]\n",
    "\n",
    "請上 Kaggle, 在 Competitions 或 Dataset 中找一組競賽或資料並寫下：\n",
    "https://www.kaggle.com/sobhanmoosavi/us-accidents\n",
    "\n",
    "1. 你選的這組資料為何重要\n",
    "   分析交通意外發生的時間,地點,原因,進而尋找降低發生機率解決之道.\n",
    "\n",
    "2. 資料從何而來 (tips: 譬如提供者是誰、以什麼方式蒐集)\n",
    "   This dataset has been collected in real-time, using multiple Traffic APIs.\n",
    "\n",
    "3. 蒐集而來的資料型態為何\n",
    "   csv檔 表格\n",
    "4. 這組資料想解決的問題如何評估\n",
    "   \n",
    "\n",
    "# [作業3]\n",
    "\n",
    "想像你經營一個自由載客車隊，你希望能透過數據分析以提升業績，請你思考並描述你如何規劃整體的分析/解決方案：\n",
    "\n",
    "1. 核心問題為何 (tips：如何定義 「提升業績 & 你的假設」)\n",
    "       需求：地區,時段,服務範圍距離,誘因\n",
    "   供給：司機數, 同類型車隊,政府政策\n",
    "\n",
    "2. 資料從何而來 (tips：哪些資料可能會對你想問的問題產生影響 & 資料如何蒐集)\n",
    "   叫車紀錄區分上車區域,時間早中晚 ,乘客數,下車地點.\n",
    "   駕駛評估其路線,花費時間.\n",
    "\n",
    "3. 蒐集而來的資料型態為何\n",
    "   表格 \n",
    "\n",
    "4. 你要回答的問題，其如何評估 (tips：你的假設如何驗證)\n",
    "   分析各地區熱門叫車時段, 提供足夠司機, 同時確保服務範圍內其他區域有最低限度駕駛供給.\n",
    "\n",
    "\n",
    "----------------------\n"
   ]
  }
 ],
 "metadata": {
  "anaconda-cloud": {},
  "kernelspec": {
   "display_name": "Python 3",
   "language": "python",
   "name": "python3"
  },
  "language_info": {
   "codemirror_mode": {
    "name": "ipython",
    "version": 3
   },
   "file_extension": ".py",
   "mimetype": "text/x-python",
   "name": "python",
   "nbconvert_exporter": "python",
   "pygments_lexer": "ipython3",
   "version": "3.7.4"
  }
 },
 "nbformat": 4,
 "nbformat_minor": 1
}
